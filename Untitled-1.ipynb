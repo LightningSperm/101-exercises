{
 "cells": [
  {
   "cell_type": "code",
   "execution_count": 6,
   "metadata": {},
   "outputs": [
    {
     "name": "stdout",
     "output_type": "stream",
     "text": [
      "Gryffindor\n",
      "Ravenclaw\n",
      "Slytherin\n"
     ]
    }
   ],
   "source": [
    "students = [\n",
    "    {\"name\": \"Hermione\", \"house\": \"Gryffindor\"},\n",
    "    {\"name\": \"Harry\", \"house\": \"Gryffindor\"},\n",
    "    {\"name\": \"Ron\", \"house\": \"Gryffindor\"},\n",
    "    {\"name\": \"Draco\", \"house\": \"Slytherin\"},\n",
    "    {\"name\": \"Padma\", \"house\": \"Ravenclaw\"},\n",
    "]\n",
    "\n",
    "\n",
    "\n",
    "houses = []\n",
    "for student in students:\n",
    "    if student[\"house\"] not in houses:\n",
    "        houses.append(student[\"house\"])\n",
    "\n",
    "for house in sorted(houses):\n",
    "    print(house)"
   ]
  }
 ],
 "metadata": {
  "kernelspec": {
   "display_name": "Python 3",
   "language": "python",
   "name": "python3"
  },
  "language_info": {
   "codemirror_mode": {
    "name": "ipython",
    "version": 3
   },
   "file_extension": ".py",
   "mimetype": "text/x-python",
   "name": "python",
   "nbconvert_exporter": "python",
   "pygments_lexer": "ipython3",
   "version": "3.12.5"
  }
 },
 "nbformat": 4,
 "nbformat_minor": 2
}
